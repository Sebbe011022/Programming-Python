def user_input_pokemon_data(nearest_points):
    # Creating empty list to store distances and labels as tuples
    pokemon_list = [] 
    # Creating loop that gives user choice to input the data
    while True:
        print("Wanna find out which of the pokemon you got?")
        user_choice  = input("input -> y <- for yes ")
        #Creating try, except ValueError to handle the wrong input
        try: 
            if user_choice == "y":
                # Asks user to input width and height and gives error if its other input then positiv numbers
                user_width = float(input("What is your pokemons testpoints, start with width? "))
                if user_width <= 0:
                    raise ValueError("Width has to be positiv number")
                user_height = float(input("What is your pokemons testpoints, start with height? "))
                if user_height <= 0:
                    raise ValueError("Height has to be positiv number")
                #Looping through to stored list of pokemon data in goal to calculate distances which each width and height data and store the calculated distances with each label as tuple
                for step in range(len(widths)):
                    input_distance = euclidean_distance(user_width, widths[step],  user_height, heights[step])
                    pokemon_list.append((input_distance, labels[step]))

            # Loop Broken because of the other input than y
            else: 
                print("Your not a pokemon fan, Good Bye!")
            break 
            
        except ValueError as err:
                # Catch and show errors related to wrong input
                print(f"Input error: {err}. Please enter positiv numbers")    
    

    sorted_list = sorted(pokemon_list)
    slice_list = sorted_list[:nearest_points]

    pichu_label_list = []
    pikachu_label_list = []
    pichu_distance_list = []
    pikachu_distance_list = []

    
    for slice in slice_list:
        print(f"{slice[0]}, {slice[1]}")
    
        if slice[1] == 0:
            pichu_label_list.append(slice[1])
            pichu_distance_list.append(slice[0])
        else:
            pikachu_label_list.append(slice[1])
            pikachu_distance_list.append(slice[0])
            
            
            
   
        if len(pichu_label_list) > len(pikachu_label_list):
            print(f" The user input with (width, height, nearest point(s)): ({user_width}, {user_height}, {nearest_points}) classified as Pokemon - Pichu")   
        elif len(pichu_label_list) == len(pikachu_label_list):   
            if sum(pichu_distance_list) > sum(pikachu_distance_list):
                print(f" The user input with (width, height, nearest point(s)): ({user_width}, {user_height}, {nearest_points}) classified as Pokemon - Pichu")   
            else:
                print(f" The user input with (width, height, nearest point(s)): ({user_width}, {user_height}, {nearest_points}) classified as Pokemon - Pichu")   
        else:
            print(f" The user input with (width, height, nearest point(s)): ({user_width}, {user_height}, {nearest_points}) classified as Pokemon - Pikachu")   
        
while True:
    try:
        nearest_point = int(input("User how many nearest point(s) do you wanna use? "))
        if nearest_point > 0:
            user_input_pokemon_data(nearest_point)
            break
        else:
            raise ValueError("You have to input positive integer")
    except ValueError as err:
            print(f"Input error: {err}. Please enter positiv integer")    
